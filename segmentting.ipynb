{
    "cells": [
        {
            "cell_type": "code",
            "execution_count": 2,
            "metadata": {},
            "outputs": [
                {
                    "name": "stdout",
                    "output_type": "stream",
                    "text": "Collecting folium\n\u001b[?25l  Downloading https://files.pythonhosted.org/packages/a4/f0/44e69d50519880287cc41e7c8a6acc58daa9a9acf5f6afc52bcc70f69a6d/folium-0.11.0-py2.py3-none-any.whl (93kB)\n\u001b[K     |\u2588\u2588\u2588\u2588\u2588\u2588\u2588\u2588\u2588\u2588\u2588\u2588\u2588\u2588\u2588\u2588\u2588\u2588\u2588\u2588\u2588\u2588\u2588\u2588\u2588\u2588\u2588\u2588\u2588\u2588\u2588\u2588| 102kB 9.3MB/s ta 0:00:011\n\u001b[?25hCollecting branca>=0.3.0 (from folium)\n  Downloading https://files.pythonhosted.org/packages/13/fb/9eacc24ba3216510c6b59a4ea1cd53d87f25ba76237d7f4393abeaf4c94e/branca-0.4.1-py3-none-any.whl\nRequirement already satisfied: numpy in /opt/conda/envs/Python36/lib/python3.6/site-packages (from folium) (1.15.4)\nRequirement already satisfied: jinja2>=2.9 in /opt/conda/envs/Python36/lib/python3.6/site-packages (from folium) (2.10)\nRequirement already satisfied: requests in /opt/conda/envs/Python36/lib/python3.6/site-packages (from folium) (2.21.0)\nRequirement already satisfied: MarkupSafe>=0.23 in /opt/conda/envs/Python36/lib/python3.6/site-packages (from jinja2>=2.9->folium) (1.1.0)\nRequirement already satisfied: certifi>=2017.4.17 in /opt/conda/envs/Python36/lib/python3.6/site-packages (from requests->folium) (2020.6.20)\nRequirement already satisfied: chardet<3.1.0,>=3.0.2 in /opt/conda/envs/Python36/lib/python3.6/site-packages (from requests->folium) (3.0.4)\nRequirement already satisfied: idna<2.9,>=2.5 in /opt/conda/envs/Python36/lib/python3.6/site-packages (from requests->folium) (2.8)\nRequirement already satisfied: urllib3<1.25,>=1.21.1 in /opt/conda/envs/Python36/lib/python3.6/site-packages (from requests->folium) (1.24.1)\nInstalling collected packages: branca, folium\nSuccessfully installed branca-0.4.1 folium-0.11.0\n"
                }
            ],
            "source": "import pandas as pd\nfrom bs4 import BeautifulSoup\nimport requests\nimport numpy as np\nfrom geopy.geocoders import Nominatim # convert an address into latitude and longitude values\nfrom pandas.io.json import json_normalize  # tranform JSON file into a pandas dataframe\n!pip install folium\nimport folium # map rendering library\n\n# import k-means from clustering stage\nfrom sklearn.cluster import KMeans\n\n# Matplotlib and associated plotting modules\nimport matplotlib.cm as cm\nimport matplotlib.colors as colors"
        },
        {
            "cell_type": "code",
            "execution_count": 3,
            "metadata": {},
            "outputs": [
                {
                    "data": {
                        "text/html": "<div>\n<style scoped>\n    .dataframe tbody tr th:only-of-type {\n        vertical-align: middle;\n    }\n\n    .dataframe tbody tr th {\n        vertical-align: top;\n    }\n\n    .dataframe thead th {\n        text-align: right;\n    }\n</style>\n<table border=\"1\" class=\"dataframe\">\n  <thead>\n    <tr style=\"text-align: right;\">\n      <th></th>\n      <th>PostalCode</th>\n      <th>Borough</th>\n      <th>Neighborhood</th>\n    </tr>\n  </thead>\n  <tbody>\n    <tr>\n      <th>0</th>\n      <td>M1A\\n</td>\n      <td>Not assigned\\n</td>\n      <td>Not assigned\\n</td>\n    </tr>\n    <tr>\n      <th>1</th>\n      <td>M2A\\n</td>\n      <td>Not assigned\\n</td>\n      <td>Not assigned\\n</td>\n    </tr>\n    <tr>\n      <th>2</th>\n      <td>M3A\\n</td>\n      <td>North York\\n</td>\n      <td>Parkwoods\\n</td>\n    </tr>\n    <tr>\n      <th>3</th>\n      <td>M4A\\n</td>\n      <td>North York\\n</td>\n      <td>Victoria Village\\n</td>\n    </tr>\n    <tr>\n      <th>4</th>\n      <td>M5A\\n</td>\n      <td>Downtown Toronto\\n</td>\n      <td>Regent Park, Harbourfront\\n</td>\n    </tr>\n  </tbody>\n</table>\n</div>",
                        "text/plain": "  PostalCode             Borough                 Neighborhood\n0      M1A\\n      Not assigned\\n               Not assigned\\n\n1      M2A\\n      Not assigned\\n               Not assigned\\n\n2      M3A\\n        North York\\n                  Parkwoods\\n\n3      M4A\\n        North York\\n           Victoria Village\\n\n4      M5A\\n  Downtown Toronto\\n  Regent Park, Harbourfront\\n"
                    },
                    "execution_count": 3,
                    "metadata": {},
                    "output_type": "execute_result"
                }
            ],
            "source": "source = requests.get(\"https://en.wikipedia.org/wiki/List_of_postal_codes_of_Canada:_M\").text\nsoup = BeautifulSoup(source, 'lxml')\n\ntable = soup.find(\"table\")\ntable_rows = table.tbody.find_all(\"tr\")\n\nres = []\nfor tr in table_rows:\n    td = tr.find_all(\"td\")\n    row = [tr.text for tr in td]\n    \n    # Only process the cells that have an assigned borough. Ignore cells with a borough that is Not assigned.\n    if row != [] and row[1] != \"Not assigned\":\n        # If a cell has a borough but a \"Not assigned\" neighborhood, then the neighborhood will be the same as the borough.\n        if \"Not assigned\" in row[2]: \n            row[2] = row[1]\n        res.append(row)\n\n# Dataframe with 3 columns\ndf = pd.DataFrame(res, columns = [\"PostalCode\", \"Borough\", \"Neighborhood\"])\ndf.head()"
        },
        {
            "cell_type": "code",
            "execution_count": 4,
            "metadata": {},
            "outputs": [
                {
                    "data": {
                        "text/html": "<div>\n<style scoped>\n    .dataframe tbody tr th:only-of-type {\n        vertical-align: middle;\n    }\n\n    .dataframe tbody tr th {\n        vertical-align: top;\n    }\n\n    .dataframe thead th {\n        text-align: right;\n    }\n</style>\n<table border=\"1\" class=\"dataframe\">\n  <thead>\n    <tr style=\"text-align: right;\">\n      <th></th>\n      <th>PostalCode</th>\n      <th>Borough</th>\n      <th>Neighborhood</th>\n    </tr>\n  </thead>\n  <tbody>\n    <tr>\n      <th>0</th>\n      <td>M1A\\n</td>\n      <td>Not assigned\\n</td>\n      <td>Not assigned</td>\n    </tr>\n    <tr>\n      <th>1</th>\n      <td>M2A\\n</td>\n      <td>Not assigned\\n</td>\n      <td>Not assigned</td>\n    </tr>\n    <tr>\n      <th>2</th>\n      <td>M3A\\n</td>\n      <td>North York\\n</td>\n      <td>Parkwoods</td>\n    </tr>\n    <tr>\n      <th>3</th>\n      <td>M4A\\n</td>\n      <td>North York\\n</td>\n      <td>Victoria Village</td>\n    </tr>\n    <tr>\n      <th>4</th>\n      <td>M5A\\n</td>\n      <td>Downtown Toronto\\n</td>\n      <td>Regent Park, Harbourfront</td>\n    </tr>\n  </tbody>\n</table>\n</div>",
                        "text/plain": "  PostalCode             Borough               Neighborhood\n0      M1A\\n      Not assigned\\n               Not assigned\n1      M2A\\n      Not assigned\\n               Not assigned\n2      M3A\\n        North York\\n                  Parkwoods\n3      M4A\\n        North York\\n           Victoria Village\n4      M5A\\n  Downtown Toronto\\n  Regent Park, Harbourfront"
                    },
                    "execution_count": 4,
                    "metadata": {},
                    "output_type": "execute_result"
                }
            ],
            "source": "df[\"Neighborhood\"] = df[\"Neighborhood\"].str.replace(\"\\n\",\"\")\ndf.head()"
        },
        {
            "cell_type": "code",
            "execution_count": 5,
            "metadata": {},
            "outputs": [
                {
                    "data": {
                        "text/html": "<div>\n<style scoped>\n    .dataframe tbody tr th:only-of-type {\n        vertical-align: middle;\n    }\n\n    .dataframe tbody tr th {\n        vertical-align: top;\n    }\n\n    .dataframe thead th {\n        text-align: right;\n    }\n</style>\n<table border=\"1\" class=\"dataframe\">\n  <thead>\n    <tr style=\"text-align: right;\">\n      <th></th>\n      <th>PostalCode</th>\n      <th>Borough</th>\n      <th>Neighborhood</th>\n    </tr>\n  </thead>\n  <tbody>\n    <tr>\n      <th>0</th>\n      <td>M1A\\n</td>\n      <td>Not assigned\\n</td>\n      <td>Not assigned</td>\n    </tr>\n    <tr>\n      <th>1</th>\n      <td>M1B\\n</td>\n      <td>Scarborough\\n</td>\n      <td>Malvern, Rouge</td>\n    </tr>\n    <tr>\n      <th>2</th>\n      <td>M1C\\n</td>\n      <td>Scarborough\\n</td>\n      <td>Rouge Hill, Port Union, Highland Creek</td>\n    </tr>\n    <tr>\n      <th>3</th>\n      <td>M1E\\n</td>\n      <td>Scarborough\\n</td>\n      <td>Guildwood, Morningside, West Hill</td>\n    </tr>\n    <tr>\n      <th>4</th>\n      <td>M1G\\n</td>\n      <td>Scarborough\\n</td>\n      <td>Woburn</td>\n    </tr>\n  </tbody>\n</table>\n</div>",
                        "text/plain": "  PostalCode         Borough                            Neighborhood\n0      M1A\\n  Not assigned\\n                            Not assigned\n1      M1B\\n   Scarborough\\n                          Malvern, Rouge\n2      M1C\\n   Scarborough\\n  Rouge Hill, Port Union, Highland Creek\n3      M1E\\n   Scarborough\\n       Guildwood, Morningside, West Hill\n4      M1G\\n   Scarborough\\n                                  Woburn"
                    },
                    "execution_count": 5,
                    "metadata": {},
                    "output_type": "execute_result"
                }
            ],
            "source": "df = df.groupby([\"PostalCode\", \"Borough\"])[\"Neighborhood\"].apply(\", \".join).reset_index()\ndf.head()"
        },
        {
            "cell_type": "code",
            "execution_count": 6,
            "metadata": {},
            "outputs": [
                {
                    "name": "stdout",
                    "output_type": "stream",
                    "text": "Shape:  (180, 3)\n"
                }
            ],
            "source": "print(\"Shape: \", df.shape)"
        },
        {
            "cell_type": "code",
            "execution_count": 8,
            "metadata": {},
            "outputs": [
                {
                    "name": "stdout",
                    "output_type": "stream",
                    "text": "--2020-10-12 21:58:41--  http://cocl.us/Geospatial_data\nResolving cocl.us (cocl.us)... 169.63.96.51, 169.63.96.148\nConnecting to cocl.us (cocl.us)|169.63.96.51|:80... connected.\nHTTP request sent, awaiting response... 301 Moved Permanently\nLocation: https://cocl.us/Geospatial_data [following]\n--2020-10-12 21:58:43--  https://cocl.us/Geospatial_data\nConnecting to cocl.us (cocl.us)|169.63.96.51|:443... connected.\nHTTP request sent, awaiting response... 301 Moved Permanently\nLocation: https://ibm.box.com/shared/static/9afzr83pps4pwf2smjjcf1y5mvgb18rr.csv [following]\n--2020-10-12 21:58:44--  https://ibm.box.com/shared/static/9afzr83pps4pwf2smjjcf1y5mvgb18rr.csv\nResolving ibm.box.com (ibm.box.com)... 185.235.236.197\nConnecting to ibm.box.com (ibm.box.com)|185.235.236.197|:443... connected.\nHTTP request sent, awaiting response... 301 Moved Permanently\nLocation: /public/static/9afzr83pps4pwf2smjjcf1y5mvgb18rr.csv [following]\n--2020-10-12 21:58:44--  https://ibm.box.com/public/static/9afzr83pps4pwf2smjjcf1y5mvgb18rr.csv\nReusing existing connection to ibm.box.com:443.\nHTTP request sent, awaiting response... 301 Moved Permanently\nLocation: https://ibm.ent.box.com/public/static/9afzr83pps4pwf2smjjcf1y5mvgb18rr.csv [following]\n--2020-10-12 21:58:45--  https://ibm.ent.box.com/public/static/9afzr83pps4pwf2smjjcf1y5mvgb18rr.csv\nResolving ibm.ent.box.com (ibm.ent.box.com)... 185.235.236.201\nConnecting to ibm.ent.box.com (ibm.ent.box.com)|185.235.236.201|:443... connected.\nHTTP request sent, awaiting response... 302 Found\nLocation: https://public.boxcloud.com/d/1/b1!YJFFzFbXpv7P-LpjWWAE_01rJwNpIfw_UMU7e4vjdoNIcOvA1MqyPLVlHlnhXlj76tIqLKJnCEQyIsylNt7XW-zX54ge1TxaLiQCdKP5wHtyOoh-DvBHzcsky7OF1Dz8oLXlfrsdG88y_-E0gmEhiHoT8AYB3QY-TB_Yi-8HZbvBCi-NbRETqtLwxxNyXOUMBBSsivSkGCugBtzql-yz1xYpnebvbHAi_x6TE4X33wnPUK9TSoDX3b74d8NFx6HbHOxe1iyL5n5yu-JVB1tdk4vswniT3nJ79QdzB_ZxAu9vX9WP1F3exq5t1SkEU9kLcfW8cwkwdchP0CmKHEC7KOdiFXkWSV5N-CU2J1fINvyGAcbwOTM1cH1_yjx4IacGEF4jZA2dRVBaCc4klBfbKju3RdqMLynMnWxDY0cDiMnyfAzRN_uUwic1tUHJVAWIlqmU2jq6d9Iojs0yINjUDXPwQVaC62PaFYmYEG_lPV1noL_ugtwICf2xoCpL0hsLPRgPv071IVeaaZjkHmuBeD95AvcEgDVFAYUk4BqhNAZe4-Mbvi0j1bExXbCLEINfcGFM9-qi5v4MteLlvF8mZjwdxsDjEv3v7ep8ItAvDTixyJLmWEyd58HBUWD49CdNhFUdk-hvMrpKwiLcXTXpbuYF3_Tr1lzzJSmegrfKMTYkchuf_mQCg8t_J7jb9y2T3GWezuCAH4ZD_jlC82sf9p5FDnCRWcqi71db6Vh3USRCIH1jjjDhu4BuKUThFlf4tDdTLW4dsk4BfPMsrW-KQwWmKA2JfWM7ApJobKXoWxMbvalTJ3Pt0RJH6wQzRUmSIZjjoXN3EbHnH0tkX-KjrHepSrcY3y608IwkrM_9EhZ3RbXp0S1QBL6pvDRCPayKtGzOI7_ZGQkW6YE_Dnu2NaoMaJu-rHFeQwHfYv1WObYenGRIrTyezrpRkGAupG3umUJUzTVgh7_1q9hbZ0et1haUxNLQHJpFG--Wbc-B0WG79Q74DPVf-66fBlY7vBflrh0WfRb2-fzMHXh45L6tMpD5GSH6ZQmiU6_-0vFG-H1myA7iOG0fjtFiTFN9Ae342A27usWFwrevF6dDLZwEnR7fb0cOwCp58wW5UmAAOVf0sNxfeFlyPnNVwwpkIt1p-Gl36QdenYh7hTOXJBkVd4FP7dYOIFduahgBnB0S-VbyCxxxmcQo26ywNqe8RlMc783N_cpaHk0FhG7tzXwUQ-kgMrzPLxJ5nc6CRriltuQndeVgEc_n9XKx2lGB-6HWh2vweAwgkqtrWlJMKseNxdRaPCDbo8fc_bNQwZpZcVsBAa4qaaYjz0Yu2fI3ff0PYqLb8g0MXnItGLOMq2nD-IDiFfT_3dJNxdJIDWRW_0OccQSVER_NoojWwiaTtql3EGUzykdHiEWLZc4Jl7vimhMSGQPXxlz4UX2myGlBQt36mA../download [following]\n--2020-10-12 21:58:45--  https://public.boxcloud.com/d/1/b1!YJFFzFbXpv7P-LpjWWAE_01rJwNpIfw_UMU7e4vjdoNIcOvA1MqyPLVlHlnhXlj76tIqLKJnCEQyIsylNt7XW-zX54ge1TxaLiQCdKP5wHtyOoh-DvBHzcsky7OF1Dz8oLXlfrsdG88y_-E0gmEhiHoT8AYB3QY-TB_Yi-8HZbvBCi-NbRETqtLwxxNyXOUMBBSsivSkGCugBtzql-yz1xYpnebvbHAi_x6TE4X33wnPUK9TSoDX3b74d8NFx6HbHOxe1iyL5n5yu-JVB1tdk4vswniT3nJ79QdzB_ZxAu9vX9WP1F3exq5t1SkEU9kLcfW8cwkwdchP0CmKHEC7KOdiFXkWSV5N-CU2J1fINvyGAcbwOTM1cH1_yjx4IacGEF4jZA2dRVBaCc4klBfbKju3RdqMLynMnWxDY0cDiMnyfAzRN_uUwic1tUHJVAWIlqmU2jq6d9Iojs0yINjUDXPwQVaC62PaFYmYEG_lPV1noL_ugtwICf2xoCpL0hsLPRgPv071IVeaaZjkHmuBeD95AvcEgDVFAYUk4BqhNAZe4-Mbvi0j1bExXbCLEINfcGFM9-qi5v4MteLlvF8mZjwdxsDjEv3v7ep8ItAvDTixyJLmWEyd58HBUWD49CdNhFUdk-hvMrpKwiLcXTXpbuYF3_Tr1lzzJSmegrfKMTYkchuf_mQCg8t_J7jb9y2T3GWezuCAH4ZD_jlC82sf9p5FDnCRWcqi71db6Vh3USRCIH1jjjDhu4BuKUThFlf4tDdTLW4dsk4BfPMsrW-KQwWmKA2JfWM7ApJobKXoWxMbvalTJ3Pt0RJH6wQzRUmSIZjjoXN3EbHnH0tkX-KjrHepSrcY3y608IwkrM_9EhZ3RbXp0S1QBL6pvDRCPayKtGzOI7_ZGQkW6YE_Dnu2NaoMaJu-rHFeQwHfYv1WObYenGRIrTyezrpRkGAupG3umUJUzTVgh7_1q9hbZ0et1haUxNLQHJpFG--Wbc-B0WG79Q74DPVf-66fBlY7vBflrh0WfRb2-fzMHXh45L6tMpD5GSH6ZQmiU6_-0vFG-H1myA7iOG0fjtFiTFN9Ae342A27usWFwrevF6dDLZwEnR7fb0cOwCp58wW5UmAAOVf0sNxfeFlyPnNVwwpkIt1p-Gl36QdenYh7hTOXJBkVd4FP7dYOIFduahgBnB0S-VbyCxxxmcQo26ywNqe8RlMc783N_cpaHk0FhG7tzXwUQ-kgMrzPLxJ5nc6CRriltuQndeVgEc_n9XKx2lGB-6HWh2vweAwgkqtrWlJMKseNxdRaPCDbo8fc_bNQwZpZcVsBAa4qaaYjz0Yu2fI3ff0PYqLb8g0MXnItGLOMq2nD-IDiFfT_3dJNxdJIDWRW_0OccQSVER_NoojWwiaTtql3EGUzykdHiEWLZc4Jl7vimhMSGQPXxlz4UX2myGlBQt36mA../download\nResolving public.boxcloud.com (public.boxcloud.com)... 107.152.29.200\nConnecting to public.boxcloud.com (public.boxcloud.com)|107.152.29.200|:443... connected.\nHTTP request sent, awaiting response... 200 OK\nLength: 2891 (2.8K) [text/csv]\nSaving to: \u2018geo_data.csv\u2019\n\n100%[======================================>] 2,891       --.-K/s   in 0s      \n\n2020-10-12 21:58:46 (252 MB/s) - \u2018geo_data.csv\u2019 saved [2891/2891]\n\n"
                },
                {
                    "data": {
                        "text/html": "<div>\n<style scoped>\n    .dataframe tbody tr th:only-of-type {\n        vertical-align: middle;\n    }\n\n    .dataframe tbody tr th {\n        vertical-align: top;\n    }\n\n    .dataframe thead th {\n        text-align: right;\n    }\n</style>\n<table border=\"1\" class=\"dataframe\">\n  <thead>\n    <tr style=\"text-align: right;\">\n      <th></th>\n      <th>Postal Code</th>\n      <th>Latitude</th>\n      <th>Longitude</th>\n    </tr>\n  </thead>\n  <tbody>\n    <tr>\n      <th>0</th>\n      <td>M1B</td>\n      <td>43.806686</td>\n      <td>-79.194353</td>\n    </tr>\n    <tr>\n      <th>1</th>\n      <td>M1C</td>\n      <td>43.784535</td>\n      <td>-79.160497</td>\n    </tr>\n    <tr>\n      <th>2</th>\n      <td>M1E</td>\n      <td>43.763573</td>\n      <td>-79.188711</td>\n    </tr>\n    <tr>\n      <th>3</th>\n      <td>M1G</td>\n      <td>43.770992</td>\n      <td>-79.216917</td>\n    </tr>\n    <tr>\n      <th>4</th>\n      <td>M1H</td>\n      <td>43.773136</td>\n      <td>-79.239476</td>\n    </tr>\n  </tbody>\n</table>\n</div>",
                        "text/plain": "  Postal Code   Latitude  Longitude\n0         M1B  43.806686 -79.194353\n1         M1C  43.784535 -79.160497\n2         M1E  43.763573 -79.188711\n3         M1G  43.770992 -79.216917\n4         M1H  43.773136 -79.239476"
                    },
                    "execution_count": 8,
                    "metadata": {},
                    "output_type": "execute_result"
                }
            ],
            "source": "!wget -O geo_data.csv http://cocl.us/Geospatial_data\n\ndf_geo_coor = pd.read_csv(\"geo_data.csv\")\ndf_geo_coor.head()"
        },
        {
            "cell_type": "code",
            "execution_count": null,
            "metadata": {},
            "outputs": [],
            "source": ""
        }
    ],
    "metadata": {
        "kernelspec": {
            "display_name": "Python 3.6",
            "language": "python",
            "name": "python3"
        },
        "language_info": {
            "codemirror_mode": {
                "name": "ipython",
                "version": 3
            },
            "file_extension": ".py",
            "mimetype": "text/x-python",
            "name": "python",
            "nbconvert_exporter": "python",
            "pygments_lexer": "ipython3",
            "version": "3.6.9"
        }
    },
    "nbformat": 4,
    "nbformat_minor": 1
}